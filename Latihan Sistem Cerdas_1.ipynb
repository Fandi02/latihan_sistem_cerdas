{
 "cells": [
  {
   "cell_type": "code",
   "execution_count": 67,
   "id": "43b0d944",
   "metadata": {},
   "outputs": [],
   "source": [
    "import statistics"
   ]
  },
  {
   "cell_type": "code",
   "execution_count": 68,
   "id": "22157a90",
   "metadata": {},
   "outputs": [],
   "source": [
    "P = [2, 4, 4, 4, 5, 5, 7, 9]"
   ]
  },
  {
   "cell_type": "code",
   "execution_count": 69,
   "id": "bc0f1d97",
   "metadata": {},
   "outputs": [
    {
     "data": {
      "text/plain": [
       "5"
      ]
     },
     "execution_count": 69,
     "metadata": {},
     "output_type": "execute_result"
    }
   ],
   "source": [
    "statistics.mean(P)"
   ]
  },
  {
   "cell_type": "code",
   "execution_count": 70,
   "id": "330bf318",
   "metadata": {},
   "outputs": [],
   "source": [
    "import numpy as np"
   ]
  },
  {
   "cell_type": "code",
   "execution_count": 71,
   "id": "f2c43117",
   "metadata": {},
   "outputs": [],
   "source": [
    "Q = [2, 4, 4, 5, 5, 5, 8, 9]"
   ]
  },
  {
   "cell_type": "code",
   "execution_count": 72,
   "id": "1c60c636",
   "metadata": {},
   "outputs": [
    {
     "data": {
      "text/plain": [
       "5.25"
      ]
     },
     "execution_count": 72,
     "metadata": {},
     "output_type": "execute_result"
    }
   ],
   "source": [
    "np.mean(Q)"
   ]
  },
  {
   "cell_type": "code",
   "execution_count": 73,
   "id": "543a9f0e",
   "metadata": {},
   "outputs": [
    {
     "data": {
      "text/plain": [
       "2.1065374432940898"
      ]
     },
     "execution_count": 73,
     "metadata": {},
     "output_type": "execute_result"
    }
   ],
   "source": [
    "np.std(Q)"
   ]
  },
  {
   "cell_type": "code",
   "execution_count": 74,
   "id": "33f75b55",
   "metadata": {},
   "outputs": [
    {
     "data": {
      "text/plain": [
       "4.5"
      ]
     },
     "execution_count": 74,
     "metadata": {},
     "output_type": "execute_result"
    }
   ],
   "source": [
    "np.median(P)"
   ]
  },
  {
   "cell_type": "code",
   "execution_count": 75,
   "id": "ffc8fca2",
   "metadata": {},
   "outputs": [
    {
     "data": {
      "text/plain": [
       "9"
      ]
     },
     "execution_count": 75,
     "metadata": {},
     "output_type": "execute_result"
    }
   ],
   "source": [
    "np.max(P)"
   ]
  },
  {
   "cell_type": "code",
   "execution_count": 76,
   "id": "cb34ec82",
   "metadata": {},
   "outputs": [
    {
     "data": {
      "text/plain": [
       "2"
      ]
     },
     "execution_count": 76,
     "metadata": {},
     "output_type": "execute_result"
    }
   ],
   "source": [
    "np.min(p)"
   ]
  },
  {
   "cell_type": "code",
   "execution_count": 77,
   "id": "c4063f01",
   "metadata": {},
   "outputs": [
    {
     "data": {
      "text/plain": [
       "4.0"
      ]
     },
     "execution_count": 77,
     "metadata": {},
     "output_type": "execute_result"
    }
   ],
   "source": [
    "np.percentile(P, 25)"
   ]
  },
  {
   "cell_type": "code",
   "execution_count": 78,
   "id": "5f634bf4",
   "metadata": {},
   "outputs": [
    {
     "data": {
      "text/plain": [
       "4.5"
      ]
     },
     "execution_count": 78,
     "metadata": {},
     "output_type": "execute_result"
    }
   ],
   "source": [
    "np.percentile(P, 50)"
   ]
  },
  {
   "cell_type": "code",
   "execution_count": 79,
   "id": "6a97e4a7",
   "metadata": {},
   "outputs": [
    {
     "data": {
      "text/plain": [
       "5.5"
      ]
     },
     "execution_count": 79,
     "metadata": {},
     "output_type": "execute_result"
    }
   ],
   "source": [
    "np.percentile(P, 75)"
   ]
  },
  {
   "cell_type": "code",
   "execution_count": 80,
   "id": "2893a17c",
   "metadata": {},
   "outputs": [
    {
     "data": {
      "text/plain": [
       "5.75"
      ]
     },
     "execution_count": 80,
     "metadata": {},
     "output_type": "execute_result"
    }
   ],
   "source": [
    "np.percentile(Q, 75)"
   ]
  },
  {
   "cell_type": "code",
   "execution_count": 81,
   "id": "db44935b",
   "metadata": {},
   "outputs": [
    {
     "data": {
      "text/plain": [
       "4.4375"
      ]
     },
     "execution_count": 81,
     "metadata": {},
     "output_type": "execute_result"
    }
   ],
   "source": [
    "np.var(Q)"
   ]
  },
  {
   "cell_type": "code",
   "execution_count": 82,
   "id": "40054535",
   "metadata": {},
   "outputs": [
    {
     "data": {
      "text/plain": [
       "4.0"
      ]
     },
     "execution_count": 82,
     "metadata": {},
     "output_type": "execute_result"
    }
   ],
   "source": [
    "np.var(P)"
   ]
  },
  {
   "cell_type": "code",
   "execution_count": 83,
   "id": "4437eb0c",
   "metadata": {},
   "outputs": [],
   "source": [
    "A = [2, 4, 4, 4, 5, 5, 7, 9]\n",
    "B = [10, 13, 15, 14, 13, 16, 18, 21]"
   ]
  },
  {
   "cell_type": "code",
   "execution_count": 84,
   "id": "a20c4e47",
   "metadata": {},
   "outputs": [
    {
     "data": {
      "text/plain": [
       "array([[ 4.57142857,  6.85714286],\n",
       "       [ 6.85714286, 11.42857143]])"
      ]
     },
     "execution_count": 84,
     "metadata": {},
     "output_type": "execute_result"
    }
   ],
   "source": [
    "np.cov(A, B)"
   ]
  },
  {
   "cell_type": "code",
   "execution_count": 85,
   "id": "d674df72",
   "metadata": {},
   "outputs": [
    {
     "data": {
      "text/plain": [
       "6.857142857142857"
      ]
     },
     "execution_count": 85,
     "metadata": {},
     "output_type": "execute_result"
    }
   ],
   "source": [
    "np.cov(A, B)[0,1]"
   ]
  },
  {
   "cell_type": "code",
   "execution_count": 86,
   "id": "93873e59",
   "metadata": {},
   "outputs": [
    {
     "data": {
      "text/plain": [
       "array([[1.        , 0.97909487],\n",
       "       [0.97909487, 1.        ]])"
      ]
     },
     "execution_count": 86,
     "metadata": {},
     "output_type": "execute_result"
    }
   ],
   "source": [
    "np.corrcoef(P,Q)"
   ]
  },
  {
   "cell_type": "code",
   "execution_count": null,
   "id": "8f057fa3",
   "metadata": {},
   "outputs": [],
   "source": []
  }
 ],
 "metadata": {
  "kernelspec": {
   "display_name": "Python 3",
   "language": "python",
   "name": "python3"
  },
  "language_info": {
   "codemirror_mode": {
    "name": "ipython",
    "version": 3
   },
   "file_extension": ".py",
   "mimetype": "text/x-python",
   "name": "python",
   "nbconvert_exporter": "python",
   "pygments_lexer": "ipython3",
   "version": "3.8.8"
  }
 },
 "nbformat": 4,
 "nbformat_minor": 5
}
